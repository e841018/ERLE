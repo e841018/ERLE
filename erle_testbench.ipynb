{
 "cells": [
  {
   "cell_type": "code",
   "execution_count": 1,
   "metadata": {},
   "outputs": [
    {
     "name": "stdout",
     "output_type": "stream",
     "text": [
      "Finest resolution is 1e-07 seconds.\n"
     ]
    }
   ],
   "source": [
    "from matplotlib import pyplot as plt\n",
    "import numpy as np\n",
    "from erle import encode\n",
    "from measure import measure\n",
    "from rand_img import draw\n",
    "\n",
    "def compare(bytes0, bytes1):\n",
    "    len0, len1 = len(bytes0), len(bytes1)\n",
    "    for i in range(max(len0, len1)):\n",
    "        byte0 = bytes0[i] if i<len0 else '-'\n",
    "        byte1 = bytes1[i] if i<len1 else '-'\n",
    "        if byte0 != byte1:\n",
    "            print(f'byte {i:>5d}: {byte0:>4}, {byte1:>4}')\n",
    "\n",
    "def show_img(images):\n",
    "    rgb = np.zeros((1080,1920,3),dtype='uint8')\n",
    "    for i in range(len(images)):\n",
    "        if i<8:\n",
    "            rgb[:,:,2] += images[i]*(2**i)\n",
    "        elif i<16:\n",
    "            rgb[:,:,1] += images[i]*(2**(i-8))\n",
    "        elif i<24:\n",
    "            rgb[:,:,0] += images[i]*(2**(i-16))\n",
    "    plt.imshow(rgb)\n",
    "\n",
    "@measure(10)\n",
    "def enc(img):\n",
    "    return encode(img)"
   ]
  },
  {
   "cell_type": "code",
   "execution_count": 2,
   "metadata": {},
   "outputs": [
    {
     "name": "stdout",
     "output_type": "stream",
     "text": [
      "Finest resolution is 1e-07 seconds.\n"
     ]
    }
   ],
   "source": [
    "# https://github.com/csi-dcsc/Pycrafter6500/blob/master/pycrafter6500.py\n",
    "\n",
    "numpy = np\n",
    "\n",
    "##function that converts a number into a bit string of given length\n",
    "\n",
    "def convlen(a,l):\n",
    "    b=bin(a)[2:]\n",
    "    padding=l-len(b)\n",
    "    b='0'*padding+b\n",
    "\n",
    "    return b\n",
    "\n",
    "##function that converts a bit string into a given number of bytes\n",
    "\n",
    "def bitstobytes(a):\n",
    "    bytelist=[]\n",
    "    if len(a)%8!=0:\n",
    "        padding=8-len(a)%8\n",
    "        a='0'*padding+a\n",
    "    for i in range(len(a)//8):\n",
    "        bytelist.append(int(a[8*i:8*(i+1)],2))\n",
    "\n",
    "    bytelist.reverse()\n",
    "\n",
    "    return bytelist\n",
    "\n",
    "##function that encodes a 8 bit numpy array matrix as a enhanced run lenght encoded string of bits\n",
    "\n",
    "def mergeimages(images):\n",
    "    mergedimage=numpy.zeros((1080,1920,3),dtype='uint8')\n",
    "\n",
    "    for i in range(len(images)):\n",
    "        if i<8:\n",
    "            mergedimage[:,:,2]=mergedimage[:,:,2]+images[i]*(2**i)\n",
    "        if i>7 and i<16:\n",
    "            mergedimage[:,:,1]=mergedimage[:,:,1]+images[i]*(2**(i-8))\n",
    "        if i>15 and i<24:\n",
    "            mergedimage[:,:,0]=mergedimage[:,:,0]+images[i]*(2**(i-16))\n",
    "\n",
    "    return mergedimage\n",
    "\n",
    "@measure()\n",
    "def encode_pc(image): \n",
    "\n",
    "\n",
    "## header creation\n",
    "    bytecount=48    \n",
    "    bitstring=[]\n",
    "\n",
    "    bitstring.append(0x53)\n",
    "    bitstring.append(0x70)\n",
    "    bitstring.append(0x6c)\n",
    "    bitstring.append(0x64)\n",
    "    \n",
    "    width=convlen(1920,16)\n",
    "    width=bitstobytes(width)\n",
    "    for i in range(len(width)):\n",
    "        bitstring.append(width[i])\n",
    "\n",
    "    height=convlen(1080,16)\n",
    "    height=bitstobytes(height)\n",
    "    for i in range(len(height)):\n",
    "        bitstring.append(height[i])\n",
    "\n",
    "\n",
    "    total=convlen(0,32)\n",
    "    total=bitstobytes(total)\n",
    "    for i in range(len(total)):\n",
    "        bitstring.append(total[i])        \n",
    "\n",
    "    for i in range(8):\n",
    "        bitstring.append(0xff)\n",
    "\n",
    "    for i in range(4):    ## black curtain\n",
    "        bitstring.append(0x00)\n",
    "\n",
    "    bitstring.append(0x00)\n",
    "\n",
    "    bitstring.append(0x02) ## enhanced rle\n",
    "\n",
    "    bitstring.append(0x01)\n",
    "\n",
    "    for i in range(21):\n",
    "        bitstring.append(0x00)\n",
    "\n",
    "\n",
    "\n",
    "    n=0\n",
    "    i=0\n",
    "    j=0\n",
    "\n",
    "    while i <1080:\n",
    "        while j <1920:\n",
    "            if i>0 and numpy.all(image[i,j,:]==image[i-1,j,:]):\n",
    "                while j<1920 and numpy.all(image[i,j,:]==image[i-1,j,:]):\n",
    "                    n=n+1\n",
    "                    j=j+1\n",
    "\n",
    "                bitstring.append(0x00)\n",
    "                bitstring.append(0x01)\n",
    "                bytecount+=2\n",
    "                \n",
    "                if n>=128:\n",
    "                    byte1=(n & 0x7f)|0x80\n",
    "                    byte2=(n >> 7)\n",
    "                    bitstring.append(byte1)\n",
    "                    bitstring.append(byte2)\n",
    "                    bytecount+=2\n",
    "                    \n",
    "                else:\n",
    "                    bitstring.append(n)\n",
    "                    bytecount+=1\n",
    "                n=0\n",
    "\n",
    "            \n",
    "            else:\n",
    "                if j<1919 and numpy.all(image[i,j,:]==image[i,j+1,:]):\n",
    "                    n=n+1\n",
    "                    while j<1919 and numpy.all(image[i,j,:]==image[i,j+1,:]):\n",
    "                        n=n+1\n",
    "                        j=j+1\n",
    "                    if n>=128:\n",
    "                        byte1=(n & 0x7f)|0x80\n",
    "                        byte2=(n >> 7)\n",
    "                        bitstring.append(byte1)\n",
    "                        bitstring.append(byte2)\n",
    "                        bytecount+=2\n",
    "                        \n",
    "                    else:\n",
    "                        bitstring.append(n)\n",
    "                        bytecount+=1\n",
    "\n",
    "                    bitstring.append(image[i,j-1,0])\n",
    "                    bitstring.append(image[i,j-1,1])\n",
    "                    bitstring.append(image[i,j-1,2])\n",
    "                    bytecount+=3\n",
    "                    \n",
    "                    j=j+1\n",
    "                    n=0\n",
    "\n",
    "                else:\n",
    "                    if j>1917 or numpy.all(image[i,j+1,:]==image[i,j+2,:]) or numpy.all(image[i,j+1,:]==image[i-1,j+1,:]):\n",
    "                        bitstring.append(0x01)\n",
    "                        bytecount+=1\n",
    "                        bitstring.append(image[i,j,0])\n",
    "                        bitstring.append(image[i,j,1])\n",
    "                        bitstring.append(image[i,j,2])\n",
    "                        bytecount+=3\n",
    "                        \n",
    "                        j=j+1\n",
    "                        n=0\n",
    "\n",
    "                    else:\n",
    "                        bitstring.append(0x00)\n",
    "                        bytecount+=1\n",
    "\n",
    "                        toappend=[]\n",
    "\n",
    "                        \n",
    "                        while numpy.any(image[i,j,:]!=image[i,j+1,:]) and numpy.any(image[i,j,:]!=image[i-1,j,:]) and j<1919:\n",
    "                            n=n+1\n",
    "                            toappend.append(image[i,j,0])\n",
    "                            toappend.append(image[i,j,1])\n",
    "                            toappend.append(image[i,j,2])\n",
    "                            j=j+1\n",
    "\n",
    "                        if n>=128:\n",
    "                            byte1=(n & 0x7f)|0x80\n",
    "                            byte2=(n >> 7)\n",
    "                            bitstring.append(byte1)\n",
    "                            bitstring.append(byte2)\n",
    "                            bytecount+=2\n",
    "                                \n",
    "                        else:\n",
    "                            bitstring.append(n)\n",
    "                            bytecount+=1\n",
    "\n",
    "                        for k in toappend:\n",
    "                            bitstring.append(k)\n",
    "                            bytecount+=1\n",
    "                        n=0\n",
    "        j=0\n",
    "        i=i+1\n",
    "        bitstring.append(0x00)\n",
    "        bitstring.append(0x00)\n",
    "        bytecount+=2\n",
    "    bitstring.append(0x00)\n",
    "    bitstring.append(0x01)\n",
    "    bitstring.append(0x00)\n",
    "    bytecount+=3\n",
    "\n",
    "\n",
    "    while (bytecount)%4!=0:\n",
    "        bitstring.append(0x00)\n",
    "        bytecount+=1        \n",
    "\n",
    "    size=bytecount\n",
    "    total=convlen(size,32)\n",
    "    total=bitstobytes(total)\n",
    "    for i in range(len(total)):\n",
    "        bitstring[i+8]=total[i]    \n",
    "\n",
    "    return bitstring"
   ]
  },
  {
   "cell_type": "markdown",
   "metadata": {},
   "source": [
    "# typical image for raster scanning"
   ]
  },
  {
   "cell_type": "code",
   "execution_count": 3,
   "metadata": {},
   "outputs": [
    {
     "data": {
      "image/png": "[encoded data removed]",
      "text/plain": [
       "<Figure size 432x288 with 1 Axes>"
      ]
     },
     "metadata": {
      "needs_background": "light"
     },
     "output_type": "display_data"
    }
   ],
   "source": [
    "imgs = np.zeros((24, 1080, 1920), dtype=np.uint8)\n",
    "imgs[:, 100:200, 400:500] = 1\n",
    "show_img(imgs)"
   ]
  },
  {
   "cell_type": "code",
   "execution_count": 4,
   "metadata": {
    "scrolled": false
   },
   "outputs": [
    {
     "name": "stdout",
     "output_type": "stream",
     "text": [
      "enc: 211.3963 milliseconds (averaged over 10 samples)\n"
     ]
    },
    {
     "data": {
      "image/png": "[encoded data removed]",
      "text/plain": [
       "<Figure size 1152x216 with 1 Axes>"
      ]
     },
     "metadata": {
      "needs_background": "light"
     },
     "output_type": "display_data"
    }
   ],
   "source": [
    "compressed = enc(imgs)"
   ]
  },
  {
   "cell_type": "code",
   "execution_count": 5,
   "metadata": {},
   "outputs": [
    {
     "name": "stdout",
     "output_type": "stream",
     "text": [
      "encode_pc: 9630.8862 milliseconds (averaged over 1 samples)\n"
     ]
    }
   ],
   "source": [
    "# pycrafter6500\n",
    "compressed_pc = encode_pc(mergeimages(imgs))\n",
    "compare(compressed_pc, compressed) # print nothing means identical"
   ]
  },
  {
   "cell_type": "markdown",
   "metadata": {},
   "source": [
    "# random image with long runs"
   ]
  },
  {
   "cell_type": "code",
   "execution_count": 6,
   "metadata": {},
   "outputs": [
    {
     "data": {
      "image/png": "[encoded data removed]",
      "text/plain": [
       "<Figure size 432x288 with 1 Axes>"
      ]
     },
     "metadata": {
      "needs_background": "light"
     },
     "output_type": "display_data"
    }
   ],
   "source": [
    "imgs = draw(0.001) # probability of changing color in the next pixel\n",
    "show_img(imgs)"
   ]
  },
  {
   "cell_type": "code",
   "execution_count": 7,
   "metadata": {},
   "outputs": [
    {
     "name": "stdout",
     "output_type": "stream",
     "text": [
      "enc: 252.3394 milliseconds (averaged over 10 samples)\n"
     ]
    },
    {
     "data": {
      "image/png": "[encoded data removed]",
      "text/plain": [
       "<Figure size 1152x216 with 1 Axes>"
      ]
     },
     "metadata": {
      "needs_background": "light"
     },
     "output_type": "display_data"
    }
   ],
   "source": [
    "compressed = enc(imgs)"
   ]
  },
  {
   "cell_type": "code",
   "execution_count": 8,
   "metadata": {
    "scrolled": true
   },
   "outputs": [
    {
     "name": "stdout",
     "output_type": "stream",
     "text": [
      "encode_pc: 10321.1794 milliseconds (averaged over 1 samples)\n"
     ]
    }
   ],
   "source": [
    "# pycrafter6500\n",
    "compressed_pc = encode_pc(mergeimages(imgs))\n",
    "compare(compressed_pc, compressed) # print nothing means identical"
   ]
  }
 ],
 "metadata": {
  "kernelspec": {
   "display_name": "Python 3",
   "language": "python",
   "name": "python3"
  },
  "language_info": {
   "codemirror_mode": {
    "name": "ipython",
    "version": 3
   },
   "file_extension": ".py",
   "mimetype": "text/x-python",
   "name": "python",
   "nbconvert_exporter": "python",
   "pygments_lexer": "ipython3",
   "version": "3.6.8"
  }
 },
 "nbformat": 4,
 "nbformat_minor": 2
}
